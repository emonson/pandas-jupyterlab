{
 "cells": [
  {
   "cell_type": "markdown",
   "metadata": {},
   "source": [
    "### Pew Research Center Dataset\n",
    "\n",
    "This dataset explores the relationship between income and religion.\n",
    "\n",
    "Problem: \n",
    "\n",
    "- The columns headers are composed of the possible income values."
   ]
  },
  {
   "cell_type": "code",
   "execution_count": null,
   "metadata": {},
   "outputs": [],
   "source": [
    "import pandas as pd"
   ]
  },
  {
   "cell_type": "markdown",
   "metadata": {},
   "source": [
    "#### Read in the data\n",
    "\n",
    "- Read data in from the CSV file `pew-raw.csv` in the `./data/` directory, \n",
    "- and print out the table"
   ]
  },
  {
   "cell_type": "code",
   "execution_count": null,
   "metadata": {
    "slideshow": {
     "slide_type": "subslide"
    }
   },
   "outputs": [],
   "source": [
    "# Read in data from CSV file\n",
    "df = pd.r___\n",
    "\n",
    "# and display the original table\n",
    "df"
   ]
  },
  {
   "cell_type": "markdown",
   "metadata": {},
   "source": [
    "#### Pivot/melt\n",
    "\n",
    "- Pivot/melt every column except for `religion`,\n",
    "- make a new column called `\"income\"` based on the old column headers\n",
    "- and a new column called `\"freq\"` based on the frequency values under those headers"
   ]
  },
  {
   "cell_type": "code",
   "execution_count": null,
   "metadata": {
    "slideshow": {
     "slide_type": "slide"
    }
   },
   "outputs": [],
   "source": [
    "formatted_df = pd.m___"
   ]
  },
  {
   "cell_type": "markdown",
   "metadata": {},
   "source": [
    "#### Sort temporarily\n",
    "\n",
    "- Display the first 15 values, sorted by `religion`\n",
    "- *Don't actually permanently sort the DataFrame yet!*"
   ]
  },
  {
   "cell_type": "code",
   "execution_count": null,
   "metadata": {
    "slideshow": {
     "slide_type": "slide"
    }
   },
   "outputs": [],
   "source": [
    "formatted_df.s___(___).h___"
   ]
  },
  {
   "cell_type": "markdown",
   "metadata": {},
   "source": [
    "#### Sort and store the results\n",
    "\n",
    "- Now sort again, this time storing the values\n",
    "- this time **descending** by `\"freq\"` so the highest frequency values are at the top\n",
    "- *The default is NOT to sort \"in place\", so need to reassign to keep sorting results*\n",
    "- Display the results\n"
   ]
  },
  {
   "cell_type": "code",
   "execution_count": null,
   "metadata": {},
   "outputs": [],
   "source": [
    "formatted_df = formatted_df.s___\n",
    "\n",
    "# display the results\n",
    "formatted_df"
   ]
  }
 ],
 "metadata": {
  "kernelspec": {
   "display_name": "Python 3",
   "language": "python",
   "name": "python3"
  },
  "language_info": {
   "codemirror_mode": {
    "name": "ipython",
    "version": 3
   },
   "file_extension": ".py",
   "mimetype": "text/x-python",
   "name": "python",
   "nbconvert_exporter": "python",
   "pygments_lexer": "ipython3",
   "version": "3.7.3"
  }
 },
 "nbformat": 4,
 "nbformat_minor": 4
}
