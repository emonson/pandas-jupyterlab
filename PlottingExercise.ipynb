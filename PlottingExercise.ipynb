{
 "cells": [
  {
   "cell_type": "markdown",
   "metadata": {},
   "source": [
    "# Basic plotting with Pandas built-in functions exercise\n",
    "\n",
    "Here we'll practice our skills on [accessing DataFrames](AccessingDataFrames.ipynb) and [basic Pandas plotting(BasicPandasPlotting.ipynb).\n",
    "\n",
    "*Don't look at them yet, but the solutions are in \n",
    "[PlottingExerciseSolutions](PlottingExerciseSolutions.ipynb)*"
   ]
  },
  {
   "cell_type": "markdown",
   "metadata": {},
   "source": [
    "### Start by importing the Pandas module\n",
    "\n",
    "We always start by importing the pandas module and giving it a shorter name so we don't have to write out \"pandas\" before each command."
   ]
  },
  {
   "cell_type": "code",
   "execution_count": null,
   "metadata": {},
   "outputs": [],
   "source": [
    "import ____ as __"
   ]
  },
  {
   "cell_type": "markdown",
   "metadata": {},
   "source": [
    "### and telling the notebook to render matplotlib plots \"inline\"\n",
    "\n",
    "We do this with one of the \"ipython magic\" commands, which all start with %"
   ]
  },
  {
   "cell_type": "code",
   "execution_count": null,
   "metadata": {},
   "outputs": [],
   "source": [
    "%____ ____"
   ]
  },
  {
   "cell_type": "markdown",
   "metadata": {},
   "source": [
    "## Load in full percent of women in fields data\n",
    "\n",
    "Now we want to load in a more full set of data on the percent of women in various fields over time.\n",
    "\n",
    "- It's stored in a CSV file in the 'data' directory\n",
    "- the name is 'percent-bachelors-degrees-women-usa.csv'\n",
    "- it has commas as the separators\n",
    "- the text \"encoding\" is 'utf-8'\n",
    "- don't worry about setting the index yet – we'll do that next"
   ]
  },
  {
   "cell_type": "code",
   "execution_count": null,
   "metadata": {},
   "outputs": [],
   "source": [
    "df = pd.read_csv(____, ___=',', encoding=___)"
   ]
  },
  {
   "cell_type": "markdown",
   "metadata": {},
   "source": [
    "### Display the first 6 lines of the DataFrame"
   ]
  },
  {
   "cell_type": "code",
   "execution_count": null,
   "metadata": {},
   "outputs": [],
   "source": [
    "df.____(_)"
   ]
  },
  {
   "cell_type": "markdown",
   "metadata": {},
   "source": [
    "## Set the DataFrame index to be the Year column\n",
    "\n",
    "Some of the tests and plotting will be easier if the Year column is set as the Index of our DataFrame. We could have done this in the loading stage, but we'll do it here instead.\n",
    "\n",
    "**Set the index to Year, \"inplace\"**"
   ]
  },
  {
   "cell_type": "code",
   "execution_count": null,
   "metadata": {},
   "outputs": [],
   "source": [
    "df._____('Year', ____=True)\n",
    "df.head()"
   ]
  },
  {
   "cell_type": "markdown",
   "metadata": {},
   "source": [
    "## Plot all of the data as a line plot of percents over years\n",
    "\n",
    "Create a line plot with a built-in Pandas plotting routine, where the x-axis is Year (remember that's in the Index now, not a normal column), and the y-axis will be percent, with all of the field columns plotted.\n",
    "\n",
    "- *A lot of these options are the default!*\n",
    "- *Don't worry if the legend covers a lot of the plot for now...*"
   ]
  },
  {
   "cell_type": "code",
   "execution_count": null,
   "metadata": {},
   "outputs": [],
   "source": [
    "df.____.____()"
   ]
  },
  {
   "cell_type": "markdown",
   "metadata": {},
   "source": [
    "## Filtering down to the fields which has low representation in 1970\n",
    "\n",
    "That's a lot of data to look at together. Let's filter down to the subset of fields which had **less than 20% women in 1970.**\n",
    "\n",
    "**Start by testing the 1970 row, and all the columns, to see whether it's True or False that they contain a value less than 20.**"
   ]
  },
  {
   "cell_type": "code",
   "execution_count": null,
   "metadata": {},
   "outputs": [],
   "source": [
    "lt_20_1970 = df.___[1970, :] < __\n",
    "lt_20_1970"
   ]
  },
  {
   "cell_type": "markdown",
   "metadata": {},
   "source": [
    "## Get a list of columns that pass that test\n",
    "\n",
    "Now let's access the DataFrame columns, and get those back that pass the test.\n",
    "\n",
    "*Remember, df.columns is an Index, which is like a special Series, and you can feed almost any of the accessor methods a binary series of the right length (like lt_20_1970), and it will give you back the members that are True.*"
   ]
  },
  {
   "cell_type": "code",
   "execution_count": null,
   "metadata": {},
   "outputs": [],
   "source": [
    "low_columns = df.____[lt_20_1970]\n",
    "low_columns"
   ]
  },
  {
   "cell_type": "markdown",
   "metadata": {},
   "source": [
    "## Now plot only the low columns\n",
    "\n",
    "We'll use the same plot command, but this time specify which columns to use, so it will only plot the low columns."
   ]
  },
  {
   "cell_type": "code",
   "execution_count": null,
   "metadata": {},
   "outputs": [],
   "source": [
    "df.____.____(_=low_columns)"
   ]
  },
  {
   "cell_type": "code",
   "execution_count": null,
   "metadata": {},
   "outputs": [],
   "source": []
  }
 ],
 "metadata": {
  "kernelspec": {
   "display_name": "Python 3",
   "language": "python",
   "name": "python3"
  },
  "language_info": {
   "codemirror_mode": {
    "name": "ipython",
    "version": 3
   },
   "file_extension": ".py",
   "mimetype": "text/x-python",
   "name": "python",
   "nbconvert_exporter": "python",
   "pygments_lexer": "ipython3",
   "version": "3.7.3"
  }
 },
 "nbformat": 4,
 "nbformat_minor": 4
}
