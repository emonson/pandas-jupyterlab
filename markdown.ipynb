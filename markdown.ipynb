{
 "cells": [
  {
   "cell_type": "markdown",
   "metadata": {},
   "source": [
    "# Markdown\n",
    "[github markdown cheat sheet PDF](https://guides.github.com/pdfs/markdown-cheatsheet-online.pdf)"
   ]
  },
  {
   "cell_type": "markdown",
   "metadata": {},
   "source": [
    "---\n",
    "# *Headers*"
   ]
  },
  {
   "cell_type": "markdown",
   "metadata": {},
   "source": [
    "```markdown\n",
    "# Heading 1\n",
    "\n",
    "## Heading 2\n",
    "\n",
    "### Heading 3\n",
    "\n",
    "#### Heading 4\n",
    "```"
   ]
  },
  {
   "cell_type": "markdown",
   "metadata": {},
   "source": [
    "# Heading 1\n",
    "\n",
    "## Heading 2\n",
    "\n",
    "### Heading 3\n",
    "\n",
    "#### Heading 4"
   ]
  },
  {
   "cell_type": "markdown",
   "metadata": {},
   "source": [
    "---\n",
    "# *Links*"
   ]
  },
  {
   "cell_type": "markdown",
   "metadata": {},
   "source": [
    "```markdown\n",
    "[data and visualization services](http://library.duke.edu/data)\n",
    "```"
   ]
  },
  {
   "cell_type": "markdown",
   "metadata": {},
   "source": [
    "[data and visualization services](http://library.duke.edu/data)"
   ]
  },
  {
   "cell_type": "markdown",
   "metadata": {},
   "source": [
    "---\n",
    "# *Paragraphs*"
   ]
  },
  {
   "cell_type": "markdown",
   "metadata": {},
   "source": [
    "```markdown\n",
    "Paragraphs don't have to break.\n",
    "As long as there aren't any more\n",
    "than one extra space \n",
    "at the end of the line\n",
    "they'll be appended together.\n",
    "\n",
    "But...  \n",
    "You can force a line break with two extra spaces at the end of a line. And paragraphs\n",
    "divide after two returns.\n",
    "```"
   ]
  },
  {
   "cell_type": "markdown",
   "metadata": {},
   "source": [
    "Paragraphs don't have to break.\n",
    "As long as there aren't any more\n",
    "than one extra space \n",
    "at the end of the line\n",
    "they'll be appended together.\n",
    "\n",
    "But...  \n",
    "You can force a line break with two extra spaces at the end of a line. And paragraphs\n",
    "divide after two returns."
   ]
  },
  {
   "cell_type": "markdown",
   "metadata": {},
   "source": [
    "---\n",
    "# *Emphasis*"
   ]
  },
  {
   "cell_type": "markdown",
   "metadata": {},
   "source": [
    "```markdown\n",
    "*This text will be italic*\n",
    "\n",
    "_This will also be italic_\n",
    "\n",
    "**This text will be bold**\n",
    "\n",
    "__This will also be bold__\n",
    "\n",
    "*You **can** combine them*\n",
    "```"
   ]
  },
  {
   "cell_type": "markdown",
   "metadata": {},
   "source": [
    "*This text will be italic*\n",
    "\n",
    "_This will also be italic_\n",
    "\n",
    "**This text will be bold**\n",
    "\n",
    "__This will also be bold__\n",
    "\n",
    "*You **can** combine them*"
   ]
  },
  {
   "cell_type": "markdown",
   "metadata": {},
   "source": [
    "---\n",
    "# *Lists*"
   ]
  },
  {
   "cell_type": "markdown",
   "metadata": {},
   "source": [
    "```markdown\n",
    "**Ordered**\n",
    "1. Item one\n",
    "1. Item two\n",
    "    1. Item two-a\n",
    "    1. Item two-b\n",
    "1. Item three\n",
    "\n",
    "**Unordered**\n",
    "* Item one\n",
    "    * Item one-a\n",
    "    * Item one-b\n",
    "* Item two\n",
    "* Item three\n",
    "```"
   ]
  },
  {
   "cell_type": "markdown",
   "metadata": {},
   "source": [
    "**Ordered**\n",
    "1. Item one\n",
    "1. Item two\n",
    "    1. Item two-a\n",
    "    1. Item two-b\n",
    "1. Item three\n",
    "\n",
    "**Unordered**\n",
    "* Item one\n",
    "    * Item one-a\n",
    "    * Item one-b\n",
    "* Item two\n",
    "* Item three"
   ]
  },
  {
   "cell_type": "markdown",
   "metadata": {},
   "source": [
    "---\n",
    "# Horizontal rules"
   ]
  },
  {
   "cell_type": "markdown",
   "metadata": {},
   "source": [
    "```markdown\n",
    "---\n",
    "***\n",
    "___\n",
    "```"
   ]
  },
  {
   "cell_type": "markdown",
   "metadata": {},
   "source": [
    "---\n",
    "***\n",
    "___"
   ]
  },
  {
   "cell_type": "markdown",
   "metadata": {},
   "source": [
    "---\n",
    "# *Code blocks*"
   ]
  },
  {
   "cell_type": "markdown",
   "metadata": {},
   "source": [
    "    ```javascript\n",
    "    function test() {\n",
    "     console.log(\"look ma’, no spaces\");\n",
    "    }\n",
    "    \n",
    "    ```"
   ]
  },
  {
   "cell_type": "markdown",
   "metadata": {},
   "source": [
    "```javascript\n",
    "function test() {\n",
    " console.log(\"look ma’, no spaces\");\n",
    "}\n",
    "```"
   ]
  },
  {
   "cell_type": "code",
   "execution_count": null,
   "metadata": {
    "collapsed": true
   },
   "outputs": [],
   "source": []
  }
 ],
 "metadata": {
  "kernelspec": {
   "display_name": "Python 3",
   "language": "python",
   "name": "python3"
  },
  "language_info": {
   "codemirror_mode": {
    "name": "ipython",
    "version": 3
   },
   "file_extension": ".py",
   "mimetype": "text/x-python",
   "name": "python",
   "nbconvert_exporter": "python",
   "pygments_lexer": "ipython3",
   "version": "3.5.2"
  }
 },
 "nbformat": 4,
 "nbformat_minor": 2
}
