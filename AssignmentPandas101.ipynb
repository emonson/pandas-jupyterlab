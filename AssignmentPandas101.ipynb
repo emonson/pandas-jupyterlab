{
 "cells": [
  {
   "cell_type": "markdown",
   "metadata": {
    "tags": []
   },
   "source": [
    "# Assignment Pandas 101\n",
    "\n",
    "In this exercise we'll practice our skills from the Pandas 101 workshop, specifically [DataFrameAccess](DataFrameAccess.ipynb) and [BasicPandasPlotting](BasicPandasPlotting.ipynb). If you want to review later, feel free to watch [the video of the Spring 2022 Pandas 101 workshop](https://warpwire.duke.edu/w/4-MGAA/).\n",
    "\n",
    "*Don't look at them yet, but the solutions are in \n",
    "[AssignmentPandas101Solutions](AssignmentPandas101Solutions.ipynb)*"
   ]
  },
  {
   "cell_type": "markdown",
   "metadata": {
    "jp-MarkdownHeadingCollapsed": true,
    "tags": []
   },
   "source": [
    "## References\n",
    "\n",
    "Besides the two notebooks referenced above, if you need to review materials from the Pandas 101 workshop I've created a new summary of the material:\n",
    "\n",
    "- [Pandas 101 essential review](Pandas101review.ipynb)"
   ]
  },
  {
   "cell_type": "markdown",
   "metadata": {},
   "source": [
    "---\n",
    "\n",
    "## Start by importing the Pandas module\n",
    "\n",
    "We always start by importing the pandas module and giving it the shorter name \"pd\" so we don't have to write out \"pandas\" before each command."
   ]
  },
  {
   "cell_type": "code",
   "execution_count": null,
   "metadata": {},
   "outputs": [],
   "source": [
    "import ____ as __"
   ]
  },
  {
   "cell_type": "markdown",
   "metadata": {},
   "source": [
    "## Load in data from CSV file\n",
    "\n",
    "Now we want to load in data from a CSV file on **the percent of women in receiving undergraduate degrees in various fields over time**.\n",
    "\n",
    "- It's stored in a CSV file in the 'data' directory\n",
    "- the name is 'percent-bachelors-degrees-women-usa.csv'"
   ]
  },
  {
   "cell_type": "code",
   "execution_count": null,
   "metadata": {},
   "outputs": [],
   "source": [
    "df = pd.read_csv(____)"
   ]
  },
  {
   "cell_type": "markdown",
   "metadata": {},
   "source": [
    "### Display the first 6 lines of the DataFrame"
   ]
  },
  {
   "cell_type": "code",
   "execution_count": null,
   "metadata": {},
   "outputs": [],
   "source": [
    "df.____(_)"
   ]
  },
  {
   "cell_type": "markdown",
   "metadata": {
    "tags": []
   },
   "source": [
    "### Display the last lines of the DataFrame"
   ]
  },
  {
   "cell_type": "code",
   "execution_count": null,
   "metadata": {},
   "outputs": [],
   "source": [
    "df._____()"
   ]
  },
  {
   "cell_type": "markdown",
   "metadata": {},
   "source": [
    "### Look at the names of the degree fields (column names)\n",
    "\n",
    "- Get a list of (really return an Index containing) the column names"
   ]
  },
  {
   "cell_type": "code",
   "execution_count": null,
   "metadata": {},
   "outputs": [],
   "source": [
    "df._____"
   ]
  },
  {
   "cell_type": "markdown",
   "metadata": {},
   "source": [
    "### Look at the default row names (Index)\n",
    "\n",
    "- Let's also look at the Index, which are the \"row names\"\n",
    "\n",
    "*We can see that by default we just get a range of sequential integers*"
   ]
  },
  {
   "cell_type": "code",
   "execution_count": null,
   "metadata": {},
   "outputs": [],
   "source": [
    "df._____"
   ]
  },
  {
   "cell_type": "markdown",
   "metadata": {},
   "source": [
    "## Set the DataFrame index to be the Year column\n",
    "\n",
    "**Some of the tests and plotting will be easier if the Year column is set as the Index of our DataFrame.** We could have done this in the loading stage, but we'll do it here instead.\n",
    "\n",
    "- Set the Index of the DataFrame to be the Year column\n",
    "- Display the first five lines of the DataFrame to check the result."
   ]
  },
  {
   "cell_type": "code",
   "execution_count": null,
   "metadata": {},
   "outputs": [],
   "source": [
    "df = df.____('Year')\n",
    "df.____()"
   ]
  },
  {
   "cell_type": "markdown",
   "metadata": {},
   "source": [
    "### The Index values are still integers\n",
    "\n",
    "It's important to know whether the data type is integer or string so we know what type of value to put when we're selecting ranges of the data. *(\"Int64\" is just a type of integer (whole number) that is stored using 64 binary bits.)*\n",
    "\n",
    "- Display just the DataFrame index"
   ]
  },
  {
   "cell_type": "code",
   "execution_count": null,
   "metadata": {},
   "outputs": [],
   "source": [
    "df._____"
   ]
  },
  {
   "cell_type": "markdown",
   "metadata": {},
   "source": [
    "### Look at the descriptive statistics in a table\n",
    "\n",
    "One thing I didn't cover in my Pandas 101 workshop was the simple way of getting summary statistics on all of the columns at once:\n",
    "\n",
    "`df.describe()`\n",
    "\n",
    "- Just display the results of running the above function"
   ]
  },
  {
   "cell_type": "code",
   "execution_count": null,
   "metadata": {},
   "outputs": [],
   "source": [
    "____"
   ]
  },
  {
   "cell_type": "markdown",
   "metadata": {
    "tags": []
   },
   "source": [
    "### Transpose the descriptive statistics and sort by the mean column\n",
    "\n",
    "I find the `df.describe()` display hard to look at because it has so many columns. In this step we will make it more useful by transposing the resulting DataFrame.\n",
    "\n",
    "- Transpose the descriptive statistics\n",
    "- Notice that we can just \"chain\" the operations together by putting a dot between each successive command. They are run left-to-right."
   ]
  },
  {
   "cell_type": "code",
   "execution_count": null,
   "metadata": {},
   "outputs": [],
   "source": [
    "df.describe()._"
   ]
  },
  {
   "cell_type": "markdown",
   "metadata": {
    "tags": []
   },
   "source": [
    "### Sort the transposed table by the mean to give a ranking of the fields\n",
    "\n",
    "- Sort the transposed descriptive statistics ascending (which is the default) by the \"mean\" column\n",
    "- Do it by chaining the sort operation at the end of the previous operations\n",
    "- This gives us a ranking of the fields regarding the mean number of women graduates over time (ascending, which is the default ordering for the sort method)\n",
    "- *Again, we are just displaying these results, not storing them in a new variable*"
   ]
  },
  {
   "cell_type": "code",
   "execution_count": null,
   "metadata": {},
   "outputs": [],
   "source": [
    "df.describe()._.____(____)"
   ]
  },
  {
   "cell_type": "markdown",
   "metadata": {},
   "source": [
    "---\n",
    "\n",
    "## DataFrame access using the `df[]` notation\n",
    "\n",
    "Let's practice accessing the values in our DataFrame:\n",
    "\n",
    "### Selecting a single column\n",
    "\n",
    "- Display the values from the Engineering column using the `df[]` notation"
   ]
  },
  {
   "cell_type": "code",
   "execution_count": null,
   "metadata": {},
   "outputs": [],
   "source": [
    "df[____]"
   ]
  },
  {
   "cell_type": "markdown",
   "metadata": {},
   "source": [
    "### Selecting multiple specific columns\n",
    "\n",
    "- Still use the `df[]` notation, but display just the Engineering and Biology columns, in that order"
   ]
  },
  {
   "cell_type": "code",
   "execution_count": null,
   "metadata": {},
   "outputs": [],
   "source": [
    "df[____]"
   ]
  },
  {
   "cell_type": "markdown",
   "metadata": {
    "tags": []
   },
   "source": [
    "### Use the same notation to select a single column of any DataFrame\n",
    "\n",
    "- Use the `df.describe()` method from above to get summary statistics on the DataFrame\n",
    "- Again, chain the commands together starting with `df` to produce the transposed DataFrame sorted by the 'mean' column\n",
    "- Now add the square brackets notation `[]` to the end of the command to just return the 'mean' column of the result"
   ]
  },
  {
   "cell_type": "code",
   "execution_count": null,
   "metadata": {},
   "outputs": [],
   "source": [
    "____"
   ]
  },
  {
   "cell_type": "markdown",
   "metadata": {},
   "source": [
    "## DataFrame access using the `df.loc[]` notation\n",
    "\n",
    "The `df.loc[]` notation is very readable since it allows us to state explicitly the names of the rows and columns *(hint: in that order)* that we're selecting from the DataFrame.\n",
    "\n",
    "- Display (select) the Engineering value from the year 2000 using the `df.loc[]` notation"
   ]
  },
  {
   "cell_type": "code",
   "execution_count": null,
   "metadata": {},
   "outputs": [],
   "source": [
    "df.loc[____,____]"
   ]
  },
  {
   "cell_type": "markdown",
   "metadata": {},
   "source": [
    "### Using the slice \":\" notation for selections\n",
    "\n",
    "Similar to selecting a range of values from a Python list, the slice `:` or `start:end` notation allows us to select a range from the rows and/or columns of a DataFrame.\n",
    "\n",
    "#### Bounded range\n",
    "\n",
    "- Select the range of years 2000-2008 (inclusive) from the Engineering column\n",
    "- *Note that, unlike Python lists, Pandas includes the `end` value in what's returned*"
   ]
  },
  {
   "cell_type": "code",
   "execution_count": null,
   "metadata": {},
   "outputs": [],
   "source": [
    "df.loc[____,____]"
   ]
  },
  {
   "cell_type": "markdown",
   "metadata": {},
   "source": [
    "#### Unbounded range\n",
    "\n",
    "- Still using the `df.loc[]` notation\n",
    "- Select from the Biology column the years 2005 to the end of the rows"
   ]
  },
  {
   "cell_type": "code",
   "execution_count": null,
   "metadata": {},
   "outputs": [],
   "source": []
  },
  {
   "cell_type": "markdown",
   "metadata": {},
   "source": [
    "#### Whole range\n",
    "\n",
    "- Still using the `df.loc[]` notation\n",
    "- Select all of the years from the English column"
   ]
  },
  {
   "cell_type": "code",
   "execution_count": null,
   "metadata": {},
   "outputs": [],
   "source": []
  },
  {
   "cell_type": "markdown",
   "metadata": {},
   "source": [
    "## Boolean Series\n",
    "\n",
    "### Testing a column against a value to get a Boolean Series\n",
    "\n",
    "There was a series of years when Computer Science had greater than 25% women graduates, but not anymore\n",
    "\n",
    "- Generate a boolean (True/False) Series showing when the \"Computer Science\" column values were greater than 25"
   ]
  },
  {
   "cell_type": "code",
   "execution_count": null,
   "metadata": {},
   "outputs": [],
   "source": []
  },
  {
   "cell_type": "markdown",
   "metadata": {},
   "source": [
    "### Boolean Series from comparing two columns\n",
    "\n",
    "Up until the 1980s, Math and Statistics had a higher percentage of women graduates than Biology\n",
    "\n",
    "- Generate a boolean (True/False) Series from testing when \"Math and Statistics\" was greater than \"Biology\""
   ]
  },
  {
   "cell_type": "code",
   "execution_count": null,
   "metadata": {
    "tags": []
   },
   "outputs": [],
   "source": []
  },
  {
   "cell_type": "markdown",
   "metadata": {},
   "source": [
    "### Selecting rows where a condition is True\n",
    "\n",
    "We can use a Boolean Series to select/return/display rows of a DataFrame where the Series value is True\n",
    "\n",
    "- Display all the columns of the DataFrame where \"Math and Statistics\" was greater than \"Biology\"\n",
    "- *Note: Try it with both the `df[]` notation and the `df.loc[]` notation*"
   ]
  },
  {
   "cell_type": "code",
   "execution_count": null,
   "metadata": {},
   "outputs": [],
   "source": []
  },
  {
   "cell_type": "code",
   "execution_count": null,
   "metadata": {},
   "outputs": [],
   "source": []
  },
  {
   "cell_type": "markdown",
   "metadata": {},
   "source": [
    "---\n",
    "\n",
    "## Basic Pandas plotting\n",
    "\n",
    "### Plot all of the data together as a line plot of percents over years\n",
    "\n",
    "Create a line plot with a built-in Pandas plotting routine, where the x-axis is Year (remember that's in the Index now, not a normal column), and the y-axis will be percent, with all of the field columns plotted.\n",
    "\n",
    "- A lot of these options are the default!\n",
    "- Don't worry if the legend covers a lot of the plot for now...\n",
    "- If you want to suppress the text output for the plot `<AxesSubplot:xlabel='Year'>`, add a semicolon to the end of the command"
   ]
  },
  {
   "cell_type": "code",
   "execution_count": null,
   "metadata": {},
   "outputs": [],
   "source": [
    "df.____.____()"
   ]
  },
  {
   "cell_type": "markdown",
   "metadata": {},
   "source": [
    "### Plot each of the lines in one subplot (small multiples)\n",
    "\n",
    "- Same plot as above, but now as \"subplots\"\n",
    "- Leave everything else (besides the subplots) as default for now\n",
    "- It's going to look bad, but we'll change that below"
   ]
  },
  {
   "cell_type": "code",
   "execution_count": null,
   "metadata": {
    "tags": []
   },
   "outputs": [],
   "source": [
    "df.____.____(____=True);"
   ]
  },
  {
   "cell_type": "markdown",
   "metadata": {},
   "source": [
    "### Specify a figure size for the group of small multiples\n",
    "\n",
    "- Leave everything else besides the subplots as default for now\n",
    "- So we can see the plots, set the size of the figure to 4,12"
   ]
  },
  {
   "cell_type": "code",
   "execution_count": null,
   "metadata": {
    "tags": []
   },
   "outputs": [],
   "source": [
    "df.____.____(____=True, ____=____);"
   ]
  },
  {
   "cell_type": "markdown",
   "metadata": {},
   "source": [
    "### Arrange the subplots in a grid and resize plots\n",
    "\n",
    "The default arrangement of the subplots we saw above is way too tall, but we can lay out a grid of subplots to make it easier to look at\n",
    "\n",
    "- Plot again, but this time use a 5 x 4 grid layout of subplots\n",
    "- Set a size for the overall figure of 12,12"
   ]
  },
  {
   "cell_type": "code",
   "execution_count": null,
   "metadata": {},
   "outputs": [],
   "source": [
    "df.____.____(____=True, ____=____, ____=____);"
   ]
  },
  {
   "cell_type": "markdown",
   "metadata": {},
   "source": [
    "### Make sure all the subplot y-axis ranges are the same!\n",
    "\n",
    "- **sharing Y axes** (so the y-axis limits are the same on all the plots)\n",
    "- using a 5 x 4 grid layout of subplots\n",
    "- size for figure of 12,12\n",
    "\n",
    "*Notice how this gives you a much better sense of the data!*"
   ]
  },
  {
   "cell_type": "code",
   "execution_count": null,
   "metadata": {},
   "outputs": [],
   "source": [
    "df.____.____(____=True, ____=____, ____=____, ____=True);"
   ]
  },
  {
   "cell_type": "markdown",
   "metadata": {},
   "source": [
    "### Bar chart of sorted summary statistics from above\n",
    "\n",
    "- Use the `df.describe()` command from above\n",
    "- Transpose, sort, and select out only the \"mean\" column from the resulting DataFrame\n",
    "- Create a horizontal bar chart of the transposed, sorted, mean values\n",
    "- Again, chain the commands together starting with `df`"
   ]
  },
  {
   "cell_type": "code",
   "execution_count": null,
   "metadata": {},
   "outputs": [],
   "source": []
  },
  {
   "cell_type": "code",
   "execution_count": null,
   "metadata": {},
   "outputs": [],
   "source": []
  }
 ],
 "metadata": {
  "kernelspec": {
   "display_name": "Python 3 (ipykernel)",
   "language": "python",
   "name": "python3"
  },
  "language_info": {
   "codemirror_mode": {
    "name": "ipython",
    "version": 3
   },
   "file_extension": ".py",
   "mimetype": "text/x-python",
   "name": "python",
   "nbconvert_exporter": "python",
   "pygments_lexer": "ipython3",
   "version": "3.9.12"
  }
 },
 "nbformat": 4,
 "nbformat_minor": 4
}
