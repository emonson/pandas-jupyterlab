{
 "cells": [
  {
   "cell_type": "markdown",
   "metadata": {},
   "source": [
    "# Splitting lists stored as strings into tidy rows\n",
    "\n",
    "This wasn't part of the original \"tidy data\" paper, but it's an example I run into all the time and I haven't seen it documented very many places."
   ]
  },
  {
   "cell_type": "code",
   "execution_count": 1,
   "metadata": {
    "slideshow": {
     "slide_type": "fragment"
    }
   },
   "outputs": [],
   "source": [
    "import pandas as pd"
   ]
  },
  {
   "cell_type": "markdown",
   "metadata": {},
   "source": [
    "## Read in the people, states data from an Excel workbook\n",
    "\n",
    "The data is in a sub-folder called `data`. The `read_excel()` function **will read the first sheet in the workbook by default if you don't specify another**\n",
    "\n",
    "*Note that you need the `xlrd` module installed to read Excel files, whereas native Pandas can read CSV files.*"
   ]
  },
  {
   "cell_type": "code",
   "execution_count": 2,
   "metadata": {},
   "outputs": [
    {
     "data": {
      "text/html": [
       "<div>\n",
       "<style scoped>\n",
       "    .dataframe tbody tr th:only-of-type {\n",
       "        vertical-align: middle;\n",
       "    }\n",
       "\n",
       "    .dataframe tbody tr th {\n",
       "        vertical-align: top;\n",
       "    }\n",
       "\n",
       "    .dataframe thead th {\n",
       "        text-align: right;\n",
       "    }\n",
       "</style>\n",
       "<table border=\"1\" class=\"dataframe\">\n",
       "  <thead>\n",
       "    <tr style=\"text-align: right;\">\n",
       "      <th></th>\n",
       "      <th>name</th>\n",
       "      <th>states</th>\n",
       "    </tr>\n",
       "  </thead>\n",
       "  <tbody>\n",
       "    <tr>\n",
       "      <th>0</th>\n",
       "      <td>Bobby</td>\n",
       "      <td>Wyoming,Michigan</td>\n",
       "    </tr>\n",
       "    <tr>\n",
       "      <th>1</th>\n",
       "      <td>Sue</td>\n",
       "      <td>Wisconsin,Nevada,California</td>\n",
       "    </tr>\n",
       "    <tr>\n",
       "      <th>2</th>\n",
       "      <td>Tamika</td>\n",
       "      <td>Florida,Washington</td>\n",
       "    </tr>\n",
       "    <tr>\n",
       "      <th>3</th>\n",
       "      <td>Cale</td>\n",
       "      <td>South Dakota</td>\n",
       "    </tr>\n",
       "    <tr>\n",
       "      <th>4</th>\n",
       "      <td>Iris</td>\n",
       "      <td>Washington,Oregon,California</td>\n",
       "    </tr>\n",
       "  </tbody>\n",
       "</table>\n",
       "</div>"
      ],
      "text/plain": [
       "     name                        states\n",
       "0   Bobby              Wyoming,Michigan\n",
       "1     Sue   Wisconsin,Nevada,California\n",
       "2  Tamika            Florida,Washington\n",
       "3    Cale                  South Dakota\n",
       "4    Iris  Washington,Oregon,California"
      ]
     },
     "execution_count": 2,
     "metadata": {},
     "output_type": "execute_result"
    }
   ],
   "source": [
    "ps = pd.read_excel('./data/PeopleStates.xlsx')\n",
    "ps"
   ]
  },
  {
   "cell_type": "markdown",
   "metadata": {},
   "source": [
    "## Splitting a string into a list on a delimiter character\n",
    "\n",
    "Here we do a \"splitting\" operation on the column to split what is currently a single string containing commas, into a list of the items between the commas. We'll put those lists in a new column for now.\n",
    "\n",
    "*Note, here we want to end up with a single column of lists, so we'll just use the default behavior the `.split()` function. If we wanted to \"expand the dimensionality of the data\", which means directly expanding those lists into enough extra columns to hold the longest list (with nulls in places where lists weren't long enough to fill out all of those columns), we would include the argument `expand=True`.*"
   ]
  },
  {
   "cell_type": "code",
   "execution_count": 3,
   "metadata": {},
   "outputs": [
    {
     "data": {
      "text/html": [
       "<div>\n",
       "<style scoped>\n",
       "    .dataframe tbody tr th:only-of-type {\n",
       "        vertical-align: middle;\n",
       "    }\n",
       "\n",
       "    .dataframe tbody tr th {\n",
       "        vertical-align: top;\n",
       "    }\n",
       "\n",
       "    .dataframe thead th {\n",
       "        text-align: right;\n",
       "    }\n",
       "</style>\n",
       "<table border=\"1\" class=\"dataframe\">\n",
       "  <thead>\n",
       "    <tr style=\"text-align: right;\">\n",
       "      <th></th>\n",
       "      <th>name</th>\n",
       "      <th>states</th>\n",
       "      <th>state_lists</th>\n",
       "    </tr>\n",
       "  </thead>\n",
       "  <tbody>\n",
       "    <tr>\n",
       "      <th>0</th>\n",
       "      <td>Bobby</td>\n",
       "      <td>Wyoming,Michigan</td>\n",
       "      <td>[Wyoming, Michigan]</td>\n",
       "    </tr>\n",
       "    <tr>\n",
       "      <th>1</th>\n",
       "      <td>Sue</td>\n",
       "      <td>Wisconsin,Nevada,California</td>\n",
       "      <td>[Wisconsin, Nevada, California]</td>\n",
       "    </tr>\n",
       "    <tr>\n",
       "      <th>2</th>\n",
       "      <td>Tamika</td>\n",
       "      <td>Florida,Washington</td>\n",
       "      <td>[Florida, Washington]</td>\n",
       "    </tr>\n",
       "    <tr>\n",
       "      <th>3</th>\n",
       "      <td>Cale</td>\n",
       "      <td>South Dakota</td>\n",
       "      <td>[South Dakota]</td>\n",
       "    </tr>\n",
       "    <tr>\n",
       "      <th>4</th>\n",
       "      <td>Iris</td>\n",
       "      <td>Washington,Oregon,California</td>\n",
       "      <td>[Washington, Oregon, California]</td>\n",
       "    </tr>\n",
       "  </tbody>\n",
       "</table>\n",
       "</div>"
      ],
      "text/plain": [
       "     name                        states                       state_lists\n",
       "0   Bobby              Wyoming,Michigan               [Wyoming, Michigan]\n",
       "1     Sue   Wisconsin,Nevada,California   [Wisconsin, Nevada, California]\n",
       "2  Tamika            Florida,Washington             [Florida, Washington]\n",
       "3    Cale                  South Dakota                    [South Dakota]\n",
       "4    Iris  Washington,Oregon,California  [Washington, Oregon, California]"
      ]
     },
     "execution_count": 3,
     "metadata": {},
     "output_type": "execute_result"
    }
   ],
   "source": [
    "ps['state_lists'] = ps['states'].str.split(',')\n",
    "ps"
   ]
  },
  {
   "cell_type": "markdown",
   "metadata": {},
   "source": [
    "## Explode the lists into rows\n",
    "\n",
    "Before Pandas 0.25.0, there was a slightly more complicated procedure you needed to go through to get lists into rows. See the [NonExplodeLists](NonExplodeLists.ipynb) lesson to see that method.\n",
    "\n",
    "This current `.explode()` function combines \"expanding\" the lists into columns, along with a `.melt()` operation we'll see below to restructure data that's spread across columns into tidy rows."
   ]
  },
  {
   "cell_type": "code",
   "execution_count": 4,
   "metadata": {},
   "outputs": [
    {
     "ename": "AttributeError",
     "evalue": "'DataFrame' object has no attribute 'explode'",
     "output_type": "error",
     "traceback": [
      "\u001b[0;31m---------------------------------------------------------------------------\u001b[0m",
      "\u001b[0;31mAttributeError\u001b[0m                            Traceback (most recent call last)",
      "\u001b[0;32m<ipython-input-4-c818dba38a21>\u001b[0m in \u001b[0;36m<module>\u001b[0;34m\u001b[0m\n\u001b[0;32m----> 1\u001b[0;31m \u001b[0mps_tidy\u001b[0m \u001b[0;34m=\u001b[0m \u001b[0mps\u001b[0m\u001b[0;34m.\u001b[0m\u001b[0mexplode\u001b[0m\u001b[0;34m(\u001b[0m\u001b[0;34m'state_lists'\u001b[0m\u001b[0;34m)\u001b[0m\u001b[0;34m\u001b[0m\u001b[0;34m\u001b[0m\u001b[0m\n\u001b[0m\u001b[1;32m      2\u001b[0m \u001b[0mps_tidy\u001b[0m\u001b[0;34m\u001b[0m\u001b[0;34m\u001b[0m\u001b[0m\n",
      "\u001b[0;32m~/anaconda3/lib/python3.7/site-packages/pandas/core/generic.py\u001b[0m in \u001b[0;36m__getattr__\u001b[0;34m(self, name)\u001b[0m\n\u001b[1;32m   5065\u001b[0m             \u001b[0;32mif\u001b[0m \u001b[0mself\u001b[0m\u001b[0;34m.\u001b[0m\u001b[0m_info_axis\u001b[0m\u001b[0;34m.\u001b[0m\u001b[0m_can_hold_identifiers_and_holds_name\u001b[0m\u001b[0;34m(\u001b[0m\u001b[0mname\u001b[0m\u001b[0;34m)\u001b[0m\u001b[0;34m:\u001b[0m\u001b[0;34m\u001b[0m\u001b[0;34m\u001b[0m\u001b[0m\n\u001b[1;32m   5066\u001b[0m                 \u001b[0;32mreturn\u001b[0m \u001b[0mself\u001b[0m\u001b[0;34m[\u001b[0m\u001b[0mname\u001b[0m\u001b[0;34m]\u001b[0m\u001b[0;34m\u001b[0m\u001b[0;34m\u001b[0m\u001b[0m\n\u001b[0;32m-> 5067\u001b[0;31m             \u001b[0;32mreturn\u001b[0m \u001b[0mobject\u001b[0m\u001b[0;34m.\u001b[0m\u001b[0m__getattribute__\u001b[0m\u001b[0;34m(\u001b[0m\u001b[0mself\u001b[0m\u001b[0;34m,\u001b[0m \u001b[0mname\u001b[0m\u001b[0;34m)\u001b[0m\u001b[0;34m\u001b[0m\u001b[0;34m\u001b[0m\u001b[0m\n\u001b[0m\u001b[1;32m   5068\u001b[0m \u001b[0;34m\u001b[0m\u001b[0m\n\u001b[1;32m   5069\u001b[0m     \u001b[0;32mdef\u001b[0m \u001b[0m__setattr__\u001b[0m\u001b[0;34m(\u001b[0m\u001b[0mself\u001b[0m\u001b[0;34m,\u001b[0m \u001b[0mname\u001b[0m\u001b[0;34m,\u001b[0m \u001b[0mvalue\u001b[0m\u001b[0;34m)\u001b[0m\u001b[0;34m:\u001b[0m\u001b[0;34m\u001b[0m\u001b[0;34m\u001b[0m\u001b[0m\n",
      "\u001b[0;31mAttributeError\u001b[0m: 'DataFrame' object has no attribute 'explode'"
     ]
    }
   ],
   "source": [
    "ps_tidy = ps.explode('state_lists')\n",
    "ps_tidy"
   ]
  },
  {
   "cell_type": "markdown",
   "metadata": {},
   "source": [
    "## Reset index\n",
    "\n",
    "It seems a bit strange to me that the Index doesn't have to be unique. (If you notice above, the index values are repeated along with each name.) That evidently affects the speed of lookup – unique Index values are faster – but it's allowed. \n",
    "\n",
    "- Here I'd like to reset the index to a new range of integers. We'll do that with `df.reset_index()`. \n",
    "- It's also a way to move the Index to a regular column, which comes in handy sometimes, too. \n",
    "- Here I'll do it \"inplace\". \n",
    "\n",
    "**Remember to be careful with \"inplace\" operations, because you'll be writing over your original data!** "
   ]
  },
  {
   "cell_type": "code",
   "execution_count": null,
   "metadata": {},
   "outputs": [],
   "source": [
    "ps_tidy.reset_index(inplace=True)\n",
    "ps_tidy"
   ]
  },
  {
   "cell_type": "markdown",
   "metadata": {},
   "source": [
    "## Dropping extra columns\n",
    "\n",
    "With `.reset_index()` you have the option of dropping the index with `drop=True`, but I left it in since I also wanted to drop the original string states list column now that I'm sure things look okay.\n",
    "\n",
    "**There are a couple ways we can get rid of, or *drop*, unwanted columns.** We can\n",
    "\n",
    "- Use the `drop()` method **<- preferred method!**\n",
    "- Specify a list of column names to select only certain columns to keep, dropping others that aren't needed. \n",
    "\n",
    "`ps_tidy_min = ps_tidy[['name','state_lists']]` <- don't do this!\n",
    "\n",
    "**There are problems with the above method!** See the [AccessingDataFrames](AccessingDataFrames.ipynb) lesson in the \"df[] with list inside for multiple columns\" section for more details on the *SettingWithCopyWarning*.\n",
    "\n",
    "### `.drop()` can drop rows or columns\n",
    "\n",
    "Since the `drop()` method can drop either rows or columns from a DataFrame, we need to either \n",
    "\n",
    "- tell Pandas what values to drop, plus the axis along which to drop (0=rows, 1=columns)\n",
    "- or we can explicitly say `columns=` or `rows=` **<- I think this way is more straightforward**\n"
   ]
  },
  {
   "cell_type": "code",
   "execution_count": null,
   "metadata": {},
   "outputs": [],
   "source": [
    "ps_tidy_min = ps_tidy.drop(columns=['index','states'])\n",
    "ps_tidy_min"
   ]
  },
  {
   "cell_type": "markdown",
   "metadata": {},
   "source": [
    "## Rename column\n",
    "\n",
    "I'll also rename the `state_lists` column to finish up. You do this by using the `.rename()` function with the `columns=` argument, and supply a dictionary where the keys are the original names, and the associated values are the new names."
   ]
  },
  {
   "cell_type": "code",
   "execution_count": null,
   "metadata": {},
   "outputs": [],
   "source": [
    "ps_tidy_min.rename(columns={'state_lists':'state'}, inplace=True)\n",
    "ps_tidy_min"
   ]
  },
  {
   "cell_type": "markdown",
   "metadata": {},
   "source": [
    "## `df.sort_values()`\n",
    "\n",
    "**Remember, just like many other Pandas functions, the default is to make a copy, and just print that out**, so unless you reassign, or change \"inplace\", the funciton won't change the original values!"
   ]
  },
  {
   "cell_type": "code",
   "execution_count": null,
   "metadata": {},
   "outputs": [],
   "source": [
    "ps_tidy_min.sort_values(by='name')"
   ]
  },
  {
   "cell_type": "code",
   "execution_count": null,
   "metadata": {},
   "outputs": [],
   "source": [
    "ps_tidy_min"
   ]
  },
  {
   "cell_type": "markdown",
   "metadata": {},
   "source": [
    "## Save to CSV for further work\n",
    "\n",
    "We'll save this data to CSV so we can use it in another exerise on merging (joining) datasets together like an SQL JOIN statement. [MergeDatasets](MergeDatasets.ipynb)"
   ]
  },
  {
   "cell_type": "code",
   "execution_count": null,
   "metadata": {},
   "outputs": [],
   "source": []
  }
 ],
 "metadata": {
  "kernelspec": {
   "display_name": "Python 3",
   "language": "python",
   "name": "python3"
  },
  "language_info": {
   "codemirror_mode": {
    "name": "ipython",
    "version": 3
   },
   "file_extension": ".py",
   "mimetype": "text/x-python",
   "name": "python",
   "nbconvert_exporter": "python",
   "pygments_lexer": "ipython3",
   "version": "3.7.3"
  }
 },
 "nbformat": 4,
 "nbformat_minor": 4
}
