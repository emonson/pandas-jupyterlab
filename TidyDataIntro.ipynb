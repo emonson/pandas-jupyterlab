{
 "cells": [
  {
   "cell_type": "markdown",
   "metadata": {
    "slideshow": {
     "slide_type": "slide"
    }
   },
   "source": [
    "## Tidy Data Introduction\n",
    "\n",
    "Based on [Tidy Data](http://vita.had.co.nz/papers/tidy-data.html), by Hadley Wickham  \n",
    "*The Journal of Statistical Software, vol. 59, 2014.*\n",
    "\n",
    "Download: [pre-print](http://vita.had.co.nz/papers/tidy-data.pdf) | [from publisher](http://www.jstatsoft.org/v59/i10/)\n",
    "\n",
    "---"
   ]
  },
  {
   "cell_type": "code",
   "execution_count": 1,
   "metadata": {
    "slideshow": {
     "slide_type": "fragment"
    }
   },
   "outputs": [],
   "source": [
    "import pandas as pd"
   ]
  },
  {
   "cell_type": "markdown",
   "metadata": {
    "slideshow": {
     "slide_type": "slide"
    }
   },
   "source": [
    "### Data structure\n",
    "\n",
    "We focus here on tabluar data, which are rectangular \"spreadsheets\" made up of **rows** and **columns**.\n",
    "\n",
    "[Pandas](https://pandas.pydata.org/) is the Python module that lets you store and manipulate tablular data. There are a lot of great online documentation and tutorials on Pandas, including the [10 minutes to Pandas tutorial on the offical documentation site](https://pandas.pydata.org/pandas-docs/stable/10min.html).\n",
    "\n",
    "In Pandas this data is stored in a `DataFrame`. There are many ways to create DataFrames. In this workshop we will mostly load data in from commma-separated value (CSV) files, but here I will use one of the many methods to create them manually, just so you've seen an example.\n",
    "\n",
    "All columns have a name, and each row has an Index. Here we start with two columns, \"treatment a\" and \"treatment b\", each containing results of measurements that were made during the two treatments. The names of the people treated are used as the row indices."
   ]
  },
  {
   "cell_type": "code",
   "execution_count": 2,
   "metadata": {
    "slideshow": {
     "slide_type": "subslide"
    }
   },
   "outputs": [
    {
     "data": {
      "text/html": [
       "<div>\n",
       "<style scoped>\n",
       "    .dataframe tbody tr th:only-of-type {\n",
       "        vertical-align: middle;\n",
       "    }\n",
       "\n",
       "    .dataframe tbody tr th {\n",
       "        vertical-align: top;\n",
       "    }\n",
       "\n",
       "    .dataframe thead th {\n",
       "        text-align: right;\n",
       "    }\n",
       "</style>\n",
       "<table border=\"1\" class=\"dataframe\">\n",
       "  <thead>\n",
       "    <tr style=\"text-align: right;\">\n",
       "      <th></th>\n",
       "      <th>treatment a</th>\n",
       "      <th>treatment b</th>\n",
       "    </tr>\n",
       "  </thead>\n",
       "  <tbody>\n",
       "    <tr>\n",
       "      <td>John</td>\n",
       "      <td>NaN</td>\n",
       "      <td>2</td>\n",
       "    </tr>\n",
       "    <tr>\n",
       "      <td>Jane</td>\n",
       "      <td>16.0</td>\n",
       "      <td>11</td>\n",
       "    </tr>\n",
       "    <tr>\n",
       "      <td>Mary</td>\n",
       "      <td>3.0</td>\n",
       "      <td>1</td>\n",
       "    </tr>\n",
       "  </tbody>\n",
       "</table>\n",
       "</div>"
      ],
      "text/plain": [
       "      treatment a  treatment b\n",
       "John          NaN            2\n",
       "Jane         16.0           11\n",
       "Mary          3.0            1"
      ]
     },
     "execution_count": 2,
     "metadata": {},
     "output_type": "execute_result"
    }
   ],
   "source": [
    "df = pd.DataFrame({'treatment a':[None, 16, 3],\n",
    "                   'treatment b':[2, 11, 1]},\n",
    "                 index=[\"John\", \"Jane\", \"Mary\"])\n",
    "df"
   ]
  },
  {
   "cell_type": "markdown",
   "metadata": {
    "slideshow": {
     "slide_type": "slide"
    }
   },
   "source": [
    "If we transpose the rows and columns, it's somehow the same data, but we need a way to talk about the information contained here, and understand what structure will lead us to the easiest analysis and visualization"
   ]
  },
  {
   "cell_type": "code",
   "execution_count": 3,
   "metadata": {
    "slideshow": {
     "slide_type": "subslide"
    }
   },
   "outputs": [
    {
     "data": {
      "text/html": [
       "<div>\n",
       "<style scoped>\n",
       "    .dataframe tbody tr th:only-of-type {\n",
       "        vertical-align: middle;\n",
       "    }\n",
       "\n",
       "    .dataframe tbody tr th {\n",
       "        vertical-align: top;\n",
       "    }\n",
       "\n",
       "    .dataframe thead th {\n",
       "        text-align: right;\n",
       "    }\n",
       "</style>\n",
       "<table border=\"1\" class=\"dataframe\">\n",
       "  <thead>\n",
       "    <tr style=\"text-align: right;\">\n",
       "      <th></th>\n",
       "      <th>John</th>\n",
       "      <th>Jane</th>\n",
       "      <th>Mary</th>\n",
       "    </tr>\n",
       "  </thead>\n",
       "  <tbody>\n",
       "    <tr>\n",
       "      <td>treatment a</td>\n",
       "      <td>NaN</td>\n",
       "      <td>16.0</td>\n",
       "      <td>3.0</td>\n",
       "    </tr>\n",
       "    <tr>\n",
       "      <td>treatment b</td>\n",
       "      <td>2.0</td>\n",
       "      <td>11.0</td>\n",
       "      <td>1.0</td>\n",
       "    </tr>\n",
       "  </tbody>\n",
       "</table>\n",
       "</div>"
      ],
      "text/plain": [
       "             John  Jane  Mary\n",
       "treatment a   NaN  16.0   3.0\n",
       "treatment b   2.0  11.0   1.0"
      ]
     },
     "execution_count": 3,
     "metadata": {},
     "output_type": "execute_result"
    }
   ],
   "source": [
    "df.T"
   ]
  },
  {
   "cell_type": "markdown",
   "metadata": {
    "slideshow": {
     "slide_type": "slide"
    }
   },
   "source": [
    "### Data semantics\n",
    "\n",
    "Datasets contain **values**\n",
    "\n",
    "- Numbers (quantitative, or numerical)\n",
    "- Strings (qualitative, or categorical)\n",
    "- Dates + times (quantitative, or parts of dates and times can be categorical)\n",
    "\n",
    "Think of a **table** as a spreadsheet of **values**, describing the attributes of a type of thing which can be named, like people, corporations, phone numbers, trips people took, recipes, ingredients, experimental measurements, etc.\n",
    "\n",
    "- The rows are the individual instances of that thing the table is recording\n",
    "- The columns describe the various attributes of that individual instance of the thing\n",
    "\n",
    "So, every value belongs to a **variable** (column) and an **observation** (row)\n",
    "\n",
    "- A **variable** contains all **values** of the same attribute (height, temperature, duration...)\n",
    "- An **observation** contains all **values** recorded on one instance or unit (one person, one day, one trip, one company, one letter someone wrote...)\n",
    "\n",
    "---\n",
    "\n",
    "We will reorganize the previous table to make the **values**, **variables** and **observations** more clear. \n"
   ]
  },
  {
   "cell_type": "code",
   "execution_count": 4,
   "metadata": {
    "slideshow": {
     "slide_type": "slide"
    }
   },
   "outputs": [
    {
     "data": {
      "text/html": [
       "<div>\n",
       "<style scoped>\n",
       "    .dataframe tbody tr th:only-of-type {\n",
       "        vertical-align: middle;\n",
       "    }\n",
       "\n",
       "    .dataframe tbody tr th {\n",
       "        vertical-align: top;\n",
       "    }\n",
       "\n",
       "    .dataframe thead th {\n",
       "        text-align: right;\n",
       "    }\n",
       "</style>\n",
       "<table border=\"1\" class=\"dataframe\">\n",
       "  <thead>\n",
       "    <tr style=\"text-align: right;\">\n",
       "      <th></th>\n",
       "      <th>person</th>\n",
       "      <th>treatment</th>\n",
       "      <th>result</th>\n",
       "    </tr>\n",
       "  </thead>\n",
       "  <tbody>\n",
       "    <tr>\n",
       "      <td>0</td>\n",
       "      <td>John</td>\n",
       "      <td>a</td>\n",
       "      <td>NaN</td>\n",
       "    </tr>\n",
       "    <tr>\n",
       "      <td>1</td>\n",
       "      <td>Jane</td>\n",
       "      <td>a</td>\n",
       "      <td>16.0</td>\n",
       "    </tr>\n",
       "    <tr>\n",
       "      <td>2</td>\n",
       "      <td>Mary</td>\n",
       "      <td>a</td>\n",
       "      <td>3.0</td>\n",
       "    </tr>\n",
       "    <tr>\n",
       "      <td>3</td>\n",
       "      <td>John</td>\n",
       "      <td>b</td>\n",
       "      <td>2.0</td>\n",
       "    </tr>\n",
       "    <tr>\n",
       "      <td>4</td>\n",
       "      <td>Jane</td>\n",
       "      <td>b</td>\n",
       "      <td>11.0</td>\n",
       "    </tr>\n",
       "    <tr>\n",
       "      <td>5</td>\n",
       "      <td>Mary</td>\n",
       "      <td>b</td>\n",
       "      <td>1.0</td>\n",
       "    </tr>\n",
       "  </tbody>\n",
       "</table>\n",
       "</div>"
      ],
      "text/plain": [
       "  person treatment  result\n",
       "0   John         a     NaN\n",
       "1   Jane         a    16.0\n",
       "2   Mary         a     3.0\n",
       "3   John         b     2.0\n",
       "4   Jane         b    11.0\n",
       "5   Mary         b     1.0"
      ]
     },
     "execution_count": 4,
     "metadata": {},
     "output_type": "execute_result"
    }
   ],
   "source": [
    "df2 = pd.DataFrame({\"person\":['John', 'Jane', 'Mary', 'John', 'Jane', 'Mary'],\n",
    "                   \"treatment\":['a', 'a', 'a', 'b', 'b', 'b'],\n",
    "                   \"result\":[None, 16, 3, 2, 11, 1]})\n",
    "df2"
   ]
  },
  {
   "cell_type": "code",
   "execution_count": 5,
   "metadata": {
    "slideshow": {
     "slide_type": "fragment"
    }
   },
   "outputs": [
    {
     "data": {
      "text/html": [
       "<div>\n",
       "<style scoped>\n",
       "    .dataframe tbody tr th:only-of-type {\n",
       "        vertical-align: middle;\n",
       "    }\n",
       "\n",
       "    .dataframe tbody tr th {\n",
       "        vertical-align: top;\n",
       "    }\n",
       "\n",
       "    .dataframe thead th {\n",
       "        text-align: right;\n",
       "    }\n",
       "</style>\n",
       "<table border=\"1\" class=\"dataframe\">\n",
       "  <thead>\n",
       "    <tr style=\"text-align: right;\">\n",
       "      <th></th>\n",
       "      <th>result</th>\n",
       "    </tr>\n",
       "    <tr>\n",
       "      <th>treatment</th>\n",
       "      <th></th>\n",
       "    </tr>\n",
       "  </thead>\n",
       "  <tbody>\n",
       "    <tr>\n",
       "      <td>a</td>\n",
       "      <td>19.0</td>\n",
       "    </tr>\n",
       "    <tr>\n",
       "      <td>b</td>\n",
       "      <td>14.0</td>\n",
       "    </tr>\n",
       "  </tbody>\n",
       "</table>\n",
       "</div>"
      ],
      "text/plain": [
       "           result\n",
       "treatment        \n",
       "a            19.0\n",
       "b            14.0"
      ]
     },
     "execution_count": 5,
     "metadata": {},
     "output_type": "execute_result"
    }
   ],
   "source": [
    "df2.groupby(\"treatment\").sum()"
   ]
  },
  {
   "cell_type": "code",
   "execution_count": 6,
   "metadata": {},
   "outputs": [
    {
     "data": {
      "text/plain": [
       "array(['John', 'Jane', 'Mary'], dtype=object)"
      ]
     },
     "execution_count": 6,
     "metadata": {},
     "output_type": "execute_result"
    }
   ],
   "source": [
    "df2.person.unique()"
   ]
  },
  {
   "cell_type": "markdown",
   "metadata": {},
   "source": [
    "The dataset contains 18 values representing 3 variables and 6 observations\n",
    "\n",
    "1. **person**, with three possible values (John, Mary and Jane)\n",
    "2. **treatment**, with two possible values (a and b)\n",
    "3. **result**, with five or six possible values, depending on how you think of the missing value (-, 16, 3, 2, 11, 1)\n"
   ]
  },
  {
   "cell_type": "markdown",
   "metadata": {},
   "source": [
    "### Tidy data\n",
    "\n",
    "Tidy data is a standard way of mapping the meaning of a dataset to its structure. *A dataset is messy or tidy depending on how rows, columns and tables are matched up with observations, variables and types.*\n",
    "\n",
    "In **tidy data**\n",
    "\n",
    "1. Each **variable** forms a **column**\n",
    "2. Each **observation** forms a **row**\n",
    "3. Each **type of observational unit** forms a **table**\n",
    "\n",
    "**messy data** is any other arrangement of the data.\n",
    "\n",
    "---\n",
    "\n",
    "*Fixed variables* describe the experimental design and are known in advance. These are often called (as in Tableau) **dimensions**.\n",
    "\n",
    "*Measured varibles* are what we actually measure in the experiment/study. These are called **measures**."
   ]
  }
 ],
 "metadata": {
  "celltoolbar": "Slideshow",
  "kernelspec": {
   "display_name": "Python 3",
   "language": "python",
   "name": "python3"
  },
  "language_info": {
   "codemirror_mode": {
    "name": "ipython",
    "version": 3
   },
   "file_extension": ".py",
   "mimetype": "text/x-python",
   "name": "python",
   "nbconvert_exporter": "python",
   "pygments_lexer": "ipython3",
   "version": "3.7.3"
  }
 },
 "nbformat": 4,
 "nbformat_minor": 4
}
