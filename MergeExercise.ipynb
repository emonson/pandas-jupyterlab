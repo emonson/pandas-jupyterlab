{
 "cells": [
  {
   "cell_type": "markdown",
   "metadata": {},
   "source": [
    "# Merge (JOIN) Exercise\n",
    "\n",
    "When preparing to visualize survey data, it's common to separate the information out into three tables, which can be edited and updated more easily separately, but they eventually need to be joined (merged) together again.\n",
    "\n",
    "This is a toy example with very small tables, so it's easier to see the results.\n",
    "\n",
    "*Note: The solutions are in the [MergeExerciseSolutions notebook](MergeExerciseSolutions.ipynb), but don't look at that until you've tried yourself!*\n",
    "\n",
    "**Please try to type instead of copy/paste – it will help you remember better!**"
   ]
  },
  {
   "cell_type": "code",
   "execution_count": null,
   "metadata": {},
   "outputs": [],
   "source": [
    "import pandas as pd"
   ]
  },
  {
   "cell_type": "markdown",
   "metadata": {},
   "source": [
    "## Load in three data tables from Excel sheets\n",
    "\n",
    "The three tables we need are stored as separate tabs/sheets in an Excel workbook named:\n",
    "\n",
    "- **Demographics**: IDs and information about individual people who took the survey\n",
    "- **Responses**: Both numerical and text responses to the survey questions in \"tall\" or \"tidy\" format. This is tied to the Demographics information by the Respondent_ID key field.\n",
    "- **Questions**: Information about the questions, including the type of question and the wording. This is tied to the Responses by the Question_ID key field."
   ]
  },
  {
   "cell_type": "markdown",
   "metadata": {},
   "source": [
    "### Read data from `data/ToySurveyData.xlsx`\n",
    "\n",
    "The basic form of the command you'll need is\n",
    "\n",
    "```\n",
    "dataframe_variable_name = read_excel('file_name', sheet_name='sheet_name')\n",
    "```"
   ]
  },
  {
   "cell_type": "code",
   "execution_count": null,
   "metadata": {},
   "outputs": [],
   "source": [
    "demographics = pd.____(____, ____)\n",
    "demographics"
   ]
  },
  {
   "cell_type": "code",
   "execution_count": null,
   "metadata": {},
   "outputs": [],
   "source": [
    "responses = ____\n",
    "responses"
   ]
  },
  {
   "cell_type": "code",
   "execution_count": null,
   "metadata": {},
   "outputs": [],
   "source": [
    "questions = ____\n",
    "questions"
   ]
  },
  {
   "cell_type": "markdown",
   "metadata": {},
   "source": [
    "## merge/JOIN the tables together\n",
    "\n",
    "There are many ways we could go about this, but let's do it in stages. \n",
    "\n",
    "#### Demographics - Responses\n",
    "\n",
    "- **Consider the Demographics table to be our primary table on the Left**\n",
    "- **Do a LEFT JOIN using `merge()` with the Responses table**\n",
    "- Explicitly state the key field / variable on which to merge using `on=`\n",
    "- Assign the result of the merge to a variable called demog_resp"
   ]
  },
  {
   "cell_type": "code",
   "execution_count": null,
   "metadata": {},
   "outputs": [],
   "source": [
    "demog_resp = ____.merge(____, how=____, on=____)\n",
    "demog_resp"
   ]
  },
  {
   "cell_type": "markdown",
   "metadata": {},
   "source": [
    "#### Demographics - Responses - Questions\n",
    "\n",
    "- **Now consider the demog_resp table to be our primary table on the Left**\n",
    "- **Do a LEFT JOIN using `merge()` with the Questions table**\n",
    "- Explicitly state the key field / variable on which to merge using `on=`\n",
    "- Assign the result to a variable called demog_resp_ques"
   ]
  },
  {
   "cell_type": "code",
   "execution_count": null,
   "metadata": {},
   "outputs": [],
   "source": [
    "demog_resp_ques = ____\n",
    "demog_resp_ques"
   ]
  },
  {
   "cell_type": "markdown",
   "metadata": {},
   "source": [
    "## Results\n",
    "\n",
    "Your resulting table after both the `merge()` commands should look like this:\n",
    "\n",
    "<img src='images/join_exercise_results.png' width=730>"
   ]
  },
  {
   "cell_type": "code",
   "execution_count": null,
   "metadata": {},
   "outputs": [],
   "source": []
  }
 ],
 "metadata": {
  "kernelspec": {
   "display_name": "Python 3",
   "language": "python",
   "name": "python3"
  },
  "language_info": {
   "codemirror_mode": {
    "name": "ipython",
    "version": 3
   },
   "file_extension": ".py",
   "mimetype": "text/x-python",
   "name": "python",
   "nbconvert_exporter": "python",
   "pygments_lexer": "ipython3",
   "version": "3.8.3"
  }
 },
 "nbformat": 4,
 "nbformat_minor": 4
}
