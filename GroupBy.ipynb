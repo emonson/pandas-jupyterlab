{
 "cells": [
  {
   "cell_type": "markdown",
   "metadata": {},
   "source": [
    "## Split-Apply-Combine operations with `.groupby()`\n",
    "\n",
    "Our data often consists of individual observations or events. To make sense of the patterns in the data it can be helpful to aggregate the data within categorical groups. The general method is described as the Split-Apply-Combine strategy for data analysis, as described in [this classic paper by Hadley Wickham](https://www.jstatsoft.org/article/view/v040i01/v40i01.pdf).\n",
    "\n",
    "- In SQL this is done with `GROUPBY`\n",
    "- In Tableau this is done with Level of Detail (LOD) calculations\n",
    "- In R this is done with the `dplyr` package\n",
    "- **In Python with Pandas this is done with `.groupby()`**"
   ]
  },
  {
   "cell_type": "markdown",
   "metadata": {},
   "source": [
    "### Groupby\n",
    "\n",
    "From [the Pandas `.groupby()` documentation](https://pandas.pydata.org/pandas-docs/stable/user_guide/groupby.html):\n",
    "\n",
    "**By “group by” we are referring to a process involving one or more of the following steps:**\n",
    "\n",
    "- **Splitting** the data into groups based on some criteria\n",
    "- **Applying** a function to each group independently\n",
    "- **Combining** the results into a data structure\n",
    "\n",
    "After splitting, in **the apply step**, we do something to the groups, like:\n",
    "\n",
    "- **Aggregation**: compute a summary statistic (or statistics) for each group, like group sums or means, or group sizes / counts\n",
    "- **Transformation**: perform some group-specific computations and return a like-indexed object, such as a standardize data (zscore) within a group, or filling NAs within groups with a value derived from each group\n",
    "- **Filtration**: discard some groups, according to a group-wise computation that evaluates True or False, such as discarding data that belongs to groups with only a few members, or filtering out data based on the group sum or mean\n"
   ]
  },
  {
   "cell_type": "markdown",
   "metadata": {},
   "source": [
    "#### Example \n",
    "\n",
    "As Jake VanderPlas shows in the \n",
    "[Aggregation and Grouping](http://nbviewer.jupyter.org/github/jakevdp/PythonDataScienceHandbook/blob/master/notebooks/03.08-Aggregation-and-Grouping.ipynb) \n",
    "section of his excellent \n",
    "[Python Data Science Handbook](https://github.com/jakevdp/PythonDataScienceHandbook)\n",
    ", an archtypical example of a `groupby()` operation with a sum aggregation is:\n",
    "\n",
    "<img src='images/split-apply-combine.svg' width=600>"
   ]
  },
  {
   "cell_type": "code",
   "execution_count": null,
   "metadata": {},
   "outputs": [],
   "source": []
  }
 ],
 "metadata": {
  "kernelspec": {
   "display_name": "Python 3",
   "language": "python",
   "name": "python3"
  },
  "language_info": {
   "codemirror_mode": {
    "name": "ipython",
    "version": 3
   },
   "file_extension": ".py",
   "mimetype": "text/x-python",
   "name": "python",
   "nbconvert_exporter": "python",
   "pygments_lexer": "ipython3",
   "version": "3.7.6"
  }
 },
 "nbformat": 4,
 "nbformat_minor": 4
}
