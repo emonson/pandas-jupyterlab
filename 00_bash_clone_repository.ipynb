{
 "cells": [
  {
   "cell_type": "markdown",
   "metadata": {},
   "source": [
    "## Clone workshop repository from github\n",
    "\n",
    "This is just for your own documentation since you had to do this to get the repository in the first place!\n",
    "\n",
    "*NOTES:*\n",
    "\n",
    "1. You need to run this command either in a terminal, which you can open from the Home page of your Jupyter instance (New -> Terminal) or using a Bash kernel (which the OIT Docker system has installed, but isn't installed by default by the Anaconda Python distribution).\n",
    "1. You need to run this from the root of your Jupyter space. If you do it here you'll just make another copy of the repository inside the repository folder.\n",
    "\n",
    "Go to [my tidy-data-python github repository](https://github.com/emonson/tidy-data-python) and click on the green button that says \"Clone or download\". Copy the \"Clone with HTTPS\" URL and use the `git clone` command with a `bash` kernel to download the repository into your Jupyter space."
   ]
  },
  {
   "cell_type": "code",
   "execution_count": null,
   "metadata": {
    "collapsed": true
   },
   "outputs": [],
   "source": [
    "git clone https://github.com/emonson/tidy-data-python.git"
   ]
  }
 ],
 "metadata": {
  "kernelspec": {
   "display_name": "Python 3",
   "language": "python",
   "name": "python3"
  },
  "language_info": {
   "codemirror_mode": {
    "name": "ipython",
    "version": 3
   },
   "file_extension": ".py",
   "mimetype": "text/x-python",
   "name": "python",
   "nbconvert_exporter": "python",
   "pygments_lexer": "ipython3",
   "version": "3.6.2"
  }
 },
 "nbformat": 4,
 "nbformat_minor": 2
}
